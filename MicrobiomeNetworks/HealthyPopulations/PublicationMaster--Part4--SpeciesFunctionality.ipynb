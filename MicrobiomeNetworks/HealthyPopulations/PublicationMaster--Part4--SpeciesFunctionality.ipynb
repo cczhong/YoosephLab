{
 "cells": [
  {
   "cell_type": "code",
   "execution_count": 2,
   "metadata": {},
   "outputs": [],
   "source": [
    "%matplotlib inline\n",
    "import pandas as pd\n",
    "import matplotlib.pyplot as plt\n",
    "import numpy as np\n",
    "import networkx as nx\n",
    "import itertools\n",
    "from collections import Counter\n",
    "from networkx.drawing.nx_agraph import graphviz_layout\n",
    "import statistics\n",
    "import seaborn as sns\n",
    "from skbio.stats.composition import multiplicative_replacement\n",
    "from skbio.stats.composition import clr\n",
    "from tqdm import tqdm"
   ]
  },
  {
   "cell_type": "markdown",
   "metadata": {},
   "source": [
    "## Build Strain Dictionarys for functional analysis of species within cohort"
   ]
  },
  {
   "cell_type": "code",
   "execution_count": 3,
   "metadata": {},
   "outputs": [],
   "source": [
    "#Strain Dataframes\n",
    "indianStrains = pd.read_csv('./DataFiles/Dataframes/strainDataframes/masterIndian_allStrains.csv').set_index(\"SampleName\")\n",
    "americanStrains = pd.read_csv('./DataFiles/Dataframes/strainDataframes/masterAmerican_allStrains.csv').set_index(\"SampleName\")\n",
    "europeanStrains = pd.read_csv('./DataFiles/Dataframes/strainDataframes/masterEuropean_allStrains.csv').set_index(\"SampleName\")\n",
    "japaneseStrains = pd.read_csv('./DataFiles/Dataframes/strainDataframes/masterJapanese_allStrains.csv').set_index(\"SampleName\")"
   ]
  },
  {
   "cell_type": "code",
   "execution_count": 4,
   "metadata": {},
   "outputs": [
    {
     "name": "stderr",
     "output_type": "stream",
     "text": [
      "/home/mark/anaconda3/lib/python3.6/site-packages/ipykernel_launcher.py:1: FutureWarning: Sorting because non-concatenation axis is not aligned. A future version\n",
      "of pandas will change to not sort by default.\n",
      "\n",
      "To accept the future behavior, pass 'sort=True'.\n",
      "\n",
      "To retain the current behavior and silence the warning, pass sort=False\n",
      "\n",
      "  \"\"\"Entry point for launching an IPython kernel.\n"
     ]
    }
   ],
   "source": [
    "allStrains = pd.concat([indianStrains,americanStrains,europeanStrains,japaneseStrains]).copy()"
   ]
  },
  {
   "cell_type": "code",
   "execution_count": 5,
   "metadata": {},
   "outputs": [],
   "source": [
    "accTaxDictDF = pd.read_csv(\"./DataFiles/Dataframes/Master_Rename.csv\").set_index(\"Bacterial_Strain\")\n",
    "accTaxDictDF['Species'] = accTaxDictDF['Species'].astype(str)\n",
    "\n",
    "accTaxDictDF2 = accTaxDictDF.copy()\n",
    "for row in accTaxDictDF2.index:\n",
    "    accTaxDictDF2.rename(index={row:str(row).replace(\",\",\"\").replace(\"(\",\"\").replace(\")\",\"\").replace(\"'\",\"\").replace(\" \", '_').replace(\"[\",\"\").replace(\"]\",\"\").replace(\".\",\"\")}, inplace=True)"
   ]
  },
  {
   "cell_type": "markdown",
   "metadata": {},
   "source": [
    "## Pull Strain Proportions for each component"
   ]
  },
  {
   "cell_type": "code",
   "execution_count": 7,
   "metadata": {},
   "outputs": [],
   "source": [
    "def buildCohortSpeciesStrainAbundance(strainDF):\n",
    "    \n",
    "    strainDF2 = strainDF.copy()\n",
    "    strainDF2.replace(0.0, np.nan, inplace=True)\n",
    "    strainDF2.dropna(axis=1, thresh=1, inplace=True)\n",
    "    strainDF2.fillna(0.0, inplace=True)\n",
    "    \n",
    "    TempStrainDic = {accTaxDictDF2.at[str(k).replace(\",\",\"\").replace(\"(\",\"\").replace(\")\",\"\").replace(\"'\",\"\").replace(\" \", '_').replace(\"[\",\"\").replace(\"]\",\"\").replace(\".\",\"\"),'Species']:[] for k in strainDF2.columns}\n",
    "    \n",
    "    for column in strainDF2.columns:\n",
    "        TempStrainDic[accTaxDictDF2.at[str(column).replace(\",\",\"\").replace(\"(\",\"\").replace(\")\",\"\").replace(\"'\",\"\").replace(\" \", '_').replace(\"[\",\"\").replace(\"]\",\"\").replace(\".\",\"\"),'Species']].append({column:strainDF2[column].mean()})\n",
    "        \n",
    "    newDictionary = {}\n",
    "    for entry in TempStrainDic:\n",
    "        \n",
    "        newDictionary[entry] = []\n",
    "        \n",
    "        #Check if the old species only had 1 strain\n",
    "        if int(len(TempStrainDic[entry])) == 1:\n",
    "            for strain in TempStrainDic[entry]:\n",
    "                for x,y in strain.items():\n",
    "                    newDictionary[entry].append({x:1})\n",
    "        \n",
    "        #If the species has more than one strain\n",
    "        if int(len(TempStrainDic[entry])) > 1:\n",
    "            \n",
    "            totalAbundance = 0.0\n",
    "            for strain in TempStrainDic[entry]:\n",
    "                for x,y in strain.items():\n",
    "                    totalAbundance +=y\n",
    "\n",
    "            for strain in TempStrainDic[entry]:\n",
    "                for x,y in strain.items():\n",
    "                    newDictionary[entry].append({x:(y/totalAbundance)})\n",
    "                    \n",
    "    return(newDictionary)"
   ]
  },
  {
   "cell_type": "code",
   "execution_count": 8,
   "metadata": {},
   "outputs": [],
   "source": [
    "americanSpecies90 = pd.read_csv(\"./DataFiles/Dataframes/speciesDataframes/PrevFiltered/masterAmerican_90%Prev_Species.csv\").set_index(\"SampleName\")\n",
    "indianSpecies90 = pd.read_csv(\"./DataFiles/Dataframes/speciesDataframes/PrevFiltered/masterIndian_90%Prev_Species.csv\").set_index(\"SampleName\")\n",
    "europeanSpecies90 = pd.read_csv(\"./DataFiles/Dataframes/speciesDataframes/PrevFiltered/masterEuropean_90%Prev_Species.csv\").set_index(\"SampleName\")\n",
    "japaneseSpecies90 = pd.read_csv(\"./DataFiles/Dataframes/speciesDataframes/PrevFiltered/masterJapanese_90%Prev_Species.csv\").set_index(\"SampleName\")"
   ]
  },
  {
   "cell_type": "code",
   "execution_count": 9,
   "metadata": {},
   "outputs": [],
   "source": [
    "a90Species = list(americanSpecies90.columns)\n",
    "i90Species = list(indianSpecies90.columns)\n",
    "e90Species = list(europeanSpecies90.columns)\n",
    "j90Species = list(japaneseSpecies90.columns)"
   ]
  },
  {
   "cell_type": "code",
   "execution_count": 10,
   "metadata": {},
   "outputs": [],
   "source": [
    "americanStrainDic = buildCohortSpeciesStrainAbundance(americanStrains)\n",
    "indianStrainDic = buildCohortSpeciesStrainAbundance(indianStrains)\n",
    "europeanStrainDic = buildCohortSpeciesStrainAbundance(europeanStrains)\n",
    "japaneseStrainDic = buildCohortSpeciesStrainAbundance(japaneseStrains)"
   ]
  },
  {
   "cell_type": "markdown",
   "metadata": {},
   "source": [
    "## Find the Union of all Strains for Components"
   ]
  },
  {
   "cell_type": "code",
   "execution_count": 11,
   "metadata": {},
   "outputs": [],
   "source": [
    "def pullStrains(listt):\n",
    "    tempList = []\n",
    "    for item in listt:\n",
    "        if len(item) > 1:\n",
    "            for key in item:\n",
    "                for dictionary in key:\n",
    "                    tempList.append(dictionary)\n",
    "        else:\n",
    "            for dictionary in (item):\n",
    "                #print(dictionary)\n",
    "                for x,y in dictionary.items():\n",
    "                    tempList.append(x)\n",
    "    return(tempList)"
   ]
  },
  {
   "cell_type": "code",
   "execution_count": 12,
   "metadata": {},
   "outputs": [],
   "source": [
    "a90Strains = pullStrains([americanStrainDic[k] for k in a90Species])\n",
    "i90Strains = pullStrains([indianStrainDic[k] for k in i90Species])\n",
    "e90Strains = pullStrains([europeanStrainDic[k] for k in e90Species])\n",
    "j90Strains = pullStrains([japaneseStrainDic[k] for k in j90Species])"
   ]
  },
  {
   "cell_type": "code",
   "execution_count": 14,
   "metadata": {},
   "outputs": [],
   "source": [
    "def sendStrainsToFile(listt, filename):\n",
    "    with open(\"./DataFiles/Dataframes/functionalAnalysis/cohortStrains/\"+filename, \"a+\") as file:\n",
    "        for x in listt:\n",
    "            file.write(str(x).strip()+\"\\n\")\n",
    "    file.close()"
   ]
  },
  {
   "cell_type": "code",
   "execution_count": 15,
   "metadata": {},
   "outputs": [],
   "source": [
    "#sendStrainsToFile(a90Strains, \"american_Strains.txt\")\n",
    "#sendStrainsToFile(i90Strains, \"indian_Strains.txt\")\n",
    "#sendStrainsToFile(e90Strains, \"european_Strains.txt\")\n",
    "#sendStrainsToFile(j90Strains, \"japanese_Strains.txt\")"
   ]
  },
  {
   "cell_type": "markdown",
   "metadata": {},
   "source": [
    "## Import Functional Potential DataFrame"
   ]
  },
  {
   "cell_type": "code",
   "execution_count": 16,
   "metadata": {},
   "outputs": [],
   "source": [
    "TigrDF1 = pd.read_csv(\"./DataFiles/Dataframes/functionalAnalysis/master_TIGRBinary.csv\")\n",
    "TigrDF1.rename(columns={'Unnamed: 0':'Bacterial_Strains'}, inplace=True)\n",
    "TigrDF1.set_index(\"Bacterial_Strains\", inplace=True)\n",
    "TigrDF2 = TigrDF1.div(TigrDF1.sum(axis=1), axis=0).copy()"
   ]
  },
  {
   "cell_type": "code",
   "execution_count": 17,
   "metadata": {},
   "outputs": [],
   "source": [
    "def buildFunctionalSpeciesTigr(strainDict):\n",
    "    \n",
    "    testStrains = {}\n",
    "    for entry in strainDict.values():\n",
    "        for strain in entry:\n",
    "            for x, y in strain.items():\n",
    "                testStrains[str(x).replace(\",\",\"\").replace(\"(\",\"\").replace(\")\",\"\").replace(\"'\",\"\").replace(\" \", '_').replace(\"[\",\"\").replace(\"]\",\"\").replace(\".\",\"\")] = y\n",
    "                \n",
    "    newdf = TigrDF2.loc[testStrains].copy()\n",
    "    \n",
    "    for row in newdf.index:\n",
    "        newdf.loc[row] = (newdf.loc[row]).mul(float(testStrains[row])).copy()\n",
    "        \n",
    "    strainRename = {k:accTaxDictDF2.at[k,'Species'] for k in list(testStrains.keys())}\n",
    "    newdf.rename(index=strainRename, inplace=True)\n",
    "    df5 = newdf.groupby(lambda x:x, axis=0).sum().copy()\n",
    "    dfo2 = df5.div(df5.sum(axis=1), axis=0).copy()            \n",
    "\n",
    "    return(dfo2)"
   ]
  },
  {
   "cell_type": "code",
   "execution_count": 18,
   "metadata": {},
   "outputs": [
    {
     "name": "stderr",
     "output_type": "stream",
     "text": [
      "/home/mark/anaconda3/lib/python3.6/site-packages/ipykernel_launcher.py:9: FutureWarning: \n",
      "Passing list-likes to .loc or [] with any missing label will raise\n",
      "KeyError in the future, you can use .reindex() as an alternative.\n",
      "\n",
      "See the documentation here:\n",
      "https://pandas.pydata.org/pandas-docs/stable/indexing.html#deprecate-loc-reindex-listlike\n",
      "  if __name__ == '__main__':\n"
     ]
    }
   ],
   "source": [
    "americanSF_tigr = buildFunctionalSpeciesTigr(americanStrainDic)\n",
    "indianSF_tigr = buildFunctionalSpeciesTigr(indianStrainDic)\n",
    "europeanSF_tigr = buildFunctionalSpeciesTigr(europeanStrainDic)\n",
    "japaneseSF_tigr = buildFunctionalSpeciesTigr(japaneseStrainDic)"
   ]
  },
  {
   "cell_type": "code",
   "execution_count": 19,
   "metadata": {},
   "outputs": [
    {
     "name": "stdout",
     "output_type": "stream",
     "text": [
      "1030\n",
      "1319\n",
      "1351\n",
      "1272\n",
      "\n",
      "\n",
      "1030\n",
      "1319\n",
      "1351\n",
      "1272\n"
     ]
    }
   ],
   "source": [
    "#Check new species functionality df contains the same number of species as original dictionary\n",
    "print(len(americanSF_tigr))\n",
    "print(len(indianSF_tigr))\n",
    "print(len(europeanSF_tigr))\n",
    "print(len(japaneseSF_tigr))\n",
    "print(\"\\n\")\n",
    "print(len(americanStrainDic))\n",
    "print(len(indianStrainDic))\n",
    "print(len(europeanStrainDic))\n",
    "print(len(japaneseStrainDic))"
   ]
  },
  {
   "cell_type": "code",
   "execution_count": 21,
   "metadata": {},
   "outputs": [],
   "source": [
    "#americanSF_tigr.to_csv(\"./DataFiles/Dataframes/functionalAnalysis/americanSpecies_TIGRFAMs.csv\")\n",
    "#indianSF_tigr.to_csv(\"./DataFiles/Dataframes/functionalAnalysis/indianSpecies_TIGRFAMs.csv\")\n",
    "#europeanSF_tigr.to_csv(\"./DataFiles/Dataframes/functionalAnalysis/europeanSpecies_TIGRFAMs.csv\")\n",
    "#japaneseSF_tigr.to_csv(\"./DataFiles/Dataframes/functionalAnalysis/japaneseSpecies_TIGRFAMs.csv\")"
   ]
  }
 ],
 "metadata": {
  "kernelspec": {
   "display_name": "Python 3",
   "language": "python",
   "name": "python3"
  },
  "language_info": {
   "codemirror_mode": {
    "name": "ipython",
    "version": 3
   },
   "file_extension": ".py",
   "mimetype": "text/x-python",
   "name": "python",
   "nbconvert_exporter": "python",
   "pygments_lexer": "ipython3",
   "version": "3.6.5"
  }
 },
 "nbformat": 4,
 "nbformat_minor": 2
}
